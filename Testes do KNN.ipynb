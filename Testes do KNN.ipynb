{
 "cells": [
  {
   "cell_type": "code",
   "execution_count": 4,
   "metadata": {},
   "outputs": [
    {
     "name": "stdout",
     "output_type": "stream",
     "text": [
      "Treino (5 elementos):\n",
      "[[1.48281146e-04 6.17357088e-01 6.18598747e-01]\n",
      " [5.30575307e-01 3.98774750e-01 7.25205259e-01]\n",
      " [7.70107957e-01 6.11849439e-01 9.97080119e-01]\n",
      " [7.96286209e-01 9.45307629e-01 9.68457931e-01]\n",
      " [3.02385317e-02 9.86059129e-01 9.59984277e-01]]\n",
      "\n",
      "Teste (2 elementos):\n",
      "[[0.3195795  0.94206522 0.04443515]\n",
      " [0.01890658 0.74697593 0.26012425]]\n"
     ]
    }
   ],
   "source": [
    "import numpy as np\n",
    "\n",
    "#criando arrays para testar implementações\n",
    "train = np.random.rand(5,3) #cinco exemplo de treino, cada exemplo de treino é um array com 3 elementos\n",
    "test = np.random.rand(2,3) #três exemplos de teste\n",
    "\n",
    "num_test = test.shape[0]\n",
    "num_train = train.shape[0]\n",
    "\n",
    "print(\"Treino (\" + str(num_train) + \" elementos):\")\n",
    "print(train)\n",
    "\n",
    "print(\"\\nTeste (\" + str(num_test) + \" elementos):\")\n",
    "print(test)"
   ]
  },
  {
   "cell_type": "code",
   "execution_count": 5,
   "metadata": {},
   "outputs": [
    {
     "name": "stdout",
     "output_type": "stream",
     "text": [
      "dists2=\n",
      "[[0.73289529 0.         0.         0.         0.        ]\n",
      " [0.         0.         0.         0.         0.        ]]\n"
     ]
    }
   ],
   "source": [
    "#distancia em dois loops\n",
    "dists2 = np.zeros((num_test, num_train)) #essa é a matriz das distâncias\n",
    "\n",
    "#calculando a distancia entre o ith elemento de treino e o jth de teste\n",
    "i = 0 #máximo de num_train\n",
    "j = 0 #máximo de num_test\n",
    "dists2[i][j] = np.sqrt(np.sum((train[i] - test[j])**2))\n",
    "\n",
    "#aqui é necessário dois laços for para iterar as variáveis i e j\n",
    "print(\"dists2=\")\n",
    "print(dists2)"
   ]
  },
  {
   "cell_type": "code",
   "execution_count": 6,
   "metadata": {},
   "outputs": [
    {
     "name": "stdout",
     "output_type": "stream",
     "text": [
      "ith elemento de teste:\n",
      "[0.3195795  0.94206522 0.04443515]\n",
      "\n",
      "(ith elemento de teste - elementos de treino)**2\n",
      "[[1.02036304e-01 1.05435371e-01 3.29663831e-01]\n",
      " [4.45192306e-02 2.95164535e-01 4.63447935e-01]\n",
      " [2.02975890e-01 1.09042462e-01 9.07532429e-01]\n",
      " [2.27249286e-01 1.05132166e-05 8.53818092e-01]\n",
      " [8.37181960e-02 1.93546403e-03 8.38230196e-01]]\n",
      "\n",
      "soma da matriz anterior no axis\n",
      "4.564779733796801\n",
      "\n",
      "soma da matriz anterior axis=0\n",
      "[0.66049891 0.51158835 3.39269248]\n",
      "\n",
      "soma da matriz anterior axis=1\n",
      "[0.53713551 0.8031317  1.21955078 1.08107789 0.92388386]\n",
      "\n",
      "extraindo a raiz quadrada do vetor anterior tem-se a distância do ith elemento de treino para todos os elementos de teste\n",
      "dists1=\n",
      "[[0.73289529 0.89617615 1.10433273 1.03974896 0.96118877]\n",
      " [0.         0.         0.         0.         0.        ]]\n"
     ]
    }
   ],
   "source": [
    "#distância em um loop\n",
    "dists1 = np.zeros((num_test, num_train))\n",
    "\n",
    "#train[i, :] retorna o ith elemento do conjunto de treinamento\n",
    "\n",
    "#calcula todas as distâncias para o ith elemento de teste\n",
    "i = 0\n",
    "\n",
    "print(\"ith elemento de teste:\")\n",
    "print(test[i, :])\n",
    "\n",
    "print(\"\\n(ith elemento de teste - elementos de treino)**2\")\n",
    "print((test[0, :] - train)**2)\n",
    "\n",
    "print(\"\\nsoma da matriz anterior no axis\")\n",
    "print(np.sum((test[0, :] - train)**2))\n",
    "\n",
    "print(\"\\nsoma da matriz anterior axis=0\")\n",
    "print(np.sum((test[0, :] - train)**2, axis=0))\n",
    "\n",
    "print(\"\\nsoma da matriz anterior axis=1\")\n",
    "print(np.sum((test[0, :] - train)**2, axis=1))\n",
    "\n",
    "print(\"\\nextraindo a raiz quadrada do vetor anterior tem-se a distância do ith elemento de treino para todos os elementos de teste\")\n",
    "dists1[i, :] = np.sqrt(np.sum((test[0, :] - train)**2, axis=1))\n",
    "\n",
    "print(\"dists1=\")\n",
    "print(dists1)"
   ]
  },
  {
   "cell_type": "code",
   "execution_count": 7,
   "metadata": {},
   "outputs": [
    {
     "name": "stdout",
     "output_type": "stream",
     "text": [
      "test_norm\n",
      "[[0.99159242]\n",
      " [0.62599512]]\n",
      "\n",
      "train_norm\n",
      "[0.76379421 0.96645413 1.96159477 2.465589   1.89479679]\n",
      "\n",
      "test_norm + train_norm\n",
      "[[1.75538663 1.95804655 2.95318719 3.45718142 2.88638921]\n",
      " [1.38978932 1.59244924 2.58758988 3.09158412 2.5207919 ]]\n",
      "\n",
      "cross=\n",
      "[[-1.21825112 -1.15491484 -1.7336364  -2.37610353 -1.96250535]\n",
      " [-1.24413244 -0.99309995 -1.46192324 -1.94619296 -1.97369865]]\n",
      "\n",
      "dists=\n",
      "[[0.73289529 0.89617615 1.10433273 1.03974896 0.96118877]\n",
      " [0.38165021 0.77417653 1.06097438 1.07022949 0.73965752]]\n"
     ]
    }
   ],
   "source": [
    "#distância sem loops\n",
    "dists0 = np.zeros((num_test, num_train))\n",
    "\n",
    "#dists0 = raiz(||x²-y²||) = raiz(||x²||-2||x||.||y||+||y²||)\n",
    "\n",
    "test_norm = np.sum(test**2, axis=1, keepdims=True) #o keepdims=True faz com que o resultado seja uma matriz e não um vetor\n",
    "print(\"test_norm\")\n",
    "print(test_norm)\n",
    "\n",
    "train_norm = np.sum(train**2, axis=1)\n",
    "print(\"\\ntrain_norm\")\n",
    "print(train_norm)\n",
    "\n",
    "print(\"\\ntest_norm + train_norm\")\n",
    "print(test_norm + train_norm)\n",
    "\n",
    "cross = -2.0 * test.dot(train.T)\n",
    "print(\"\\ncross=\")\n",
    "print(cross)\n",
    "\n",
    "\n",
    "dists = np.sqrt(test_norm + cross + train_norm)\n",
    "print(\"\\ndists=\")\n",
    "print(dists)"
   ]
  },
  {
   "cell_type": "code",
   "execution_count": 8,
   "metadata": {},
   "outputs": [
    {
     "name": "stdout",
     "output_type": "stream",
     "text": [
      "[[0.98246564 0.11182521 0.53210391]\n",
      " [0.31704657 0.08390034 0.65211371]\n",
      " [0.21432308 0.23764602 0.19049648]\n",
      " [0.42257638 0.95496834 0.96823037]\n",
      " [0.728053   0.20462248 0.25458326]\n",
      " [0.5223966  0.83235881 0.45208951]\n",
      " [0.04764714 0.99827998 0.60671415]\n",
      " [0.07246229 0.8041709  0.47058733]\n",
      " [0.85572134 0.95776827 0.71998363]\n",
      " [0.78582436 0.40254612 0.47805441]\n",
      " [0.05402804 0.36408646 0.51854852]\n",
      " [0.08937241 0.17170089 0.17044934]\n",
      " [0.99229467 0.14566731 0.29978376]\n",
      " [0.15513762 0.51809986 0.26877802]\n",
      " [0.44739312 0.81430951 0.36959541]\n",
      " [0.16269067 0.25208725 0.26588436]\n",
      " [0.39956329 0.75766641 0.25832335]\n",
      " [0.19104598 0.40372066 0.12540261]\n",
      " [0.22611785 0.16241953 0.03373756]\n",
      " [0.30052485 0.80885879 0.32259892]]\n",
      "[0.4117224  0.36610082 0.07400145 0.11187499 0.26802778 0.85612827\n",
      " 0.19092331 0.54830331 0.82799893 0.46206287 0.35788468 0.44834171\n",
      " 0.36721218 0.08503694 0.91165556 0.19081163 0.80618526 0.05655644\n",
      " 0.66212454 0.29766142]\n"
     ]
    }
   ],
   "source": [
    "#testando cross-validation\n",
    "x_train = np.random.rand(20,3) #20 exemplos de teste\n",
    "y_train = np.random.rand(20) #20 exemplos de teste\n",
    "\n",
    "\"\"\"\n",
    "for i in range(20):\n",
    "    x_train[i].append(i)\n",
    "    y_train[i].append(i)\n",
    "\"\"\"\n",
    "print(x_train)\n",
    "print(y_train)\n"
   ]
  },
  {
   "cell_type": "code",
   "execution_count": 9,
   "metadata": {},
   "outputs": [
    {
     "name": "stdout",
     "output_type": "stream",
     "text": [
      "[array([[0.98246564, 0.11182521, 0.53210391],\n",
      "       [0.31704657, 0.08390034, 0.65211371],\n",
      "       [0.21432308, 0.23764602, 0.19049648],\n",
      "       [0.42257638, 0.95496834, 0.96823037],\n",
      "       [0.728053  , 0.20462248, 0.25458326]]), array([[0.5223966 , 0.83235881, 0.45208951],\n",
      "       [0.04764714, 0.99827998, 0.60671415],\n",
      "       [0.07246229, 0.8041709 , 0.47058733],\n",
      "       [0.85572134, 0.95776827, 0.71998363],\n",
      "       [0.78582436, 0.40254612, 0.47805441]]), array([[0.05402804, 0.36408646, 0.51854852],\n",
      "       [0.08937241, 0.17170089, 0.17044934],\n",
      "       [0.99229467, 0.14566731, 0.29978376],\n",
      "       [0.15513762, 0.51809986, 0.26877802],\n",
      "       [0.44739312, 0.81430951, 0.36959541]]), array([[0.16269067, 0.25208725, 0.26588436],\n",
      "       [0.39956329, 0.75766641, 0.25832335],\n",
      "       [0.19104598, 0.40372066, 0.12540261],\n",
      "       [0.22611785, 0.16241953, 0.03373756],\n",
      "       [0.30052485, 0.80885879, 0.32259892]])]\n",
      "[array([0.4117224 , 0.36610082, 0.07400145, 0.11187499, 0.26802778]), array([0.85612827, 0.19092331, 0.54830331, 0.82799893, 0.46206287]), array([0.35788468, 0.44834171, 0.36721218, 0.08503694, 0.91165556]), array([0.19081163, 0.80618526, 0.05655644, 0.66212454, 0.29766142])]\n"
     ]
    }
   ],
   "source": [
    "x_train_folds = np.split(x_train, 4)\n",
    "y_train_folds = np.split(y_train, 4)\n",
    "\n",
    "print(x_train_folds)\n",
    "print(y_train_folds)"
   ]
  },
  {
   "cell_type": "code",
   "execution_count": 10,
   "metadata": {},
   "outputs": [
    {
     "name": "stdout",
     "output_type": "stream",
     "text": [
      "[array([[0.98246564, 0.11182521, 0.53210391],\n",
      "       [0.31704657, 0.08390034, 0.65211371],\n",
      "       [0.21432308, 0.23764602, 0.19049648],\n",
      "       [0.42257638, 0.95496834, 0.96823037],\n",
      "       [0.728053  , 0.20462248, 0.25458326]]), array([[0.05402804, 0.36408646, 0.51854852],\n",
      "       [0.08937241, 0.17170089, 0.17044934],\n",
      "       [0.99229467, 0.14566731, 0.29978376],\n",
      "       [0.15513762, 0.51809986, 0.26877802],\n",
      "       [0.44739312, 0.81430951, 0.36959541]]), array([[0.16269067, 0.25208725, 0.26588436],\n",
      "       [0.39956329, 0.75766641, 0.25832335],\n",
      "       [0.19104598, 0.40372066, 0.12540261],\n",
      "       [0.22611785, 0.16241953, 0.03373756],\n",
      "       [0.30052485, 0.80885879, 0.32259892]])]\n",
      "[[0.98246564 0.11182521 0.53210391]\n",
      " [0.31704657 0.08390034 0.65211371]\n",
      " [0.21432308 0.23764602 0.19049648]\n",
      " [0.42257638 0.95496834 0.96823037]\n",
      " [0.728053   0.20462248 0.25458326]\n",
      " [0.05402804 0.36408646 0.51854852]\n",
      " [0.08937241 0.17170089 0.17044934]\n",
      " [0.99229467 0.14566731 0.29978376]\n",
      " [0.15513762 0.51809986 0.26877802]\n",
      " [0.44739312 0.81430951 0.36959541]\n",
      " [0.16269067 0.25208725 0.26588436]\n",
      " [0.39956329 0.75766641 0.25832335]\n",
      " [0.19104598 0.40372066 0.12540261]\n",
      " [0.22611785 0.16241953 0.03373756]\n",
      " [0.30052485 0.80885879 0.32259892]]\n"
     ]
    }
   ],
   "source": [
    "i = 1 #fold para validação\n",
    "\n",
    "x_train_set = x_train_folds[:i] + x_train_folds[i+1:]\n",
    "\n",
    "print(x_train_set)\n",
    "\n",
    "x_train_set = np.vstack(x_train_folds[:i] + x_train_folds[i+1:])\n",
    "\n",
    "print(x_train_set)"
   ]
  },
  {
   "cell_type": "code",
   "execution_count": 11,
   "metadata": {},
   "outputs": [
    {
     "name": "stdout",
     "output_type": "stream",
     "text": [
      "[array([0.4117224 , 0.36610082, 0.07400145, 0.11187499, 0.26802778]), array([0.35788468, 0.44834171, 0.36721218, 0.08503694, 0.91165556]), array([0.19081163, 0.80618526, 0.05655644, 0.66212454, 0.29766142])]\n",
      "[0.4117224  0.36610082 0.07400145 0.11187499 0.26802778 0.35788468\n",
      " 0.44834171 0.36721218 0.08503694 0.91165556 0.19081163 0.80618526\n",
      " 0.05655644 0.66212454 0.29766142]\n"
     ]
    }
   ],
   "source": [
    "y_train_set = y_train_folds[:i] + y_train_folds[i+1:]\n",
    "\n",
    "print(y_train_set)\n",
    "\n",
    "y_train_set = np.hstack(y_train_folds[:i] + y_train_folds[i+1:])\n",
    "\n",
    "print(y_train_set)"
   ]
  },
  {
   "cell_type": "code",
   "execution_count": 12,
   "metadata": {},
   "outputs": [
    {
     "name": "stdout",
     "output_type": "stream",
     "text": [
      "[[0.5223966  0.83235881 0.45208951]\n",
      " [0.04764714 0.99827998 0.60671415]\n",
      " [0.07246229 0.8041709  0.47058733]\n",
      " [0.85572134 0.95776827 0.71998363]\n",
      " [0.78582436 0.40254612 0.47805441]]\n",
      "[0.85612827 0.19092331 0.54830331 0.82799893 0.46206287]\n"
     ]
    }
   ],
   "source": [
    "x_validation = x_train_folds[i]\n",
    "y_validation = y_train_folds[i]\n",
    "\n",
    "print(x_validation)\n",
    "print(y_validation)"
   ]
  },
  {
   "cell_type": "code",
   "execution_count": 25,
   "metadata": {},
   "outputs": [
    {
     "name": "stdout",
     "output_type": "stream",
     "text": [
      "[[1.48281146e-04 6.17357088e-01 6.18598747e-01]\n",
      " [5.30575307e-01 3.98774750e-01 7.25205259e-01]\n",
      " [7.70107957e-01 6.11849439e-01 9.97080119e-01]\n",
      " [7.96286209e-01 9.45307629e-01 9.68457931e-01]\n",
      " [3.02385317e-02 9.86059129e-01 9.59984277e-01]]\n",
      "[[0.3195795  0.94206522 0.04443515]\n",
      " [0.01890658 0.74697593 0.26012425]]\n",
      "[[0.73289529 0.89617615 1.10433273 1.03974896 0.96118877]\n",
      " [0.38165021 0.77417653 1.06097438 1.07022949 0.73965752]]\n"
     ]
    }
   ],
   "source": [
    "#testando predict label\n",
    "\"\"\"\n",
    "lembrando:\n",
    "train = np.random.rand(5,3) #cinco exemplo de treino, cada exemplo de treino é um array com 3 elementos\n",
    "test = np.random.rand(2,3) #três exemplos de teste\n",
    "\n",
    "dists é a matriz de distâncias\n",
    "\"\"\"\n",
    "print(train)\n",
    "print(test)\n",
    "print(dists)\n",
    "\n",
    "y_train2 = np.random.rand(5) #20 exemplos de teste"
   ]
  },
  {
   "cell_type": "code",
   "execution_count": 37,
   "metadata": {},
   "outputs": [
    {
     "name": "stdout",
     "output_type": "stream",
     "text": [
      "[0 1 4 3 2]\n"
     ]
    }
   ],
   "source": [
    "k = 5\n",
    "i = 0\n",
    "closest_n = np.argsort(dists[i])[:k]\n",
    "print(closest_n)"
   ]
  },
  {
   "cell_type": "code",
   "execution_count": 38,
   "metadata": {},
   "outputs": [
    {
     "name": "stdout",
     "output_type": "stream",
     "text": [
      "[0.17320866697557247, 0.6547594881568608, 0.6571693285568965, 0.5441672853611903, 0.2161103929771312]\n"
     ]
    }
   ],
   "source": [
    "closest_y = []\n",
    "closest_y.extend(y_train2[closest_n])\n",
    "\n",
    "print(closest_y)"
   ]
  },
  {
   "cell_type": "code",
   "execution_count": 39,
   "metadata": {},
   "outputs": [
    {
     "name": "stdout",
     "output_type": "stream",
     "text": [
      "[0.17320866697557247, 0.2161103929771312, 0.5441672853611903, 0.6547594881568608, 0.6571693285568965]\n"
     ]
    }
   ],
   "source": [
    "closest_y.sort()\n",
    "print(closest_y)"
   ]
  },
  {
   "cell_type": "code",
   "execution_count": 31,
   "metadata": {},
   "outputs": [
    {
     "name": "stdout",
     "output_type": "stream",
     "text": [
      "[0. 0.]\n"
     ]
    }
   ],
   "source": [
    "y_pred = np.zeros(2)\n",
    "print(y_pred)"
   ]
  },
  {
   "cell_type": "code",
   "execution_count": 36,
   "metadata": {},
   "outputs": [
    {
     "name": "stdout",
     "output_type": "stream",
     "text": [
      "[0.17320867 0.        ]\n"
     ]
    }
   ],
   "source": [
    "from scipy import stats\n",
    "y_pred[i] = stats.mode(closest_y)[0][0]\n",
    "print(y_pred)"
   ]
  },
  {
   "cell_type": "code",
   "execution_count": null,
   "metadata": {},
   "outputs": [],
   "source": []
  }
 ],
 "metadata": {
  "kernelspec": {
   "display_name": "Python 3",
   "language": "python",
   "name": "python3"
  },
  "language_info": {
   "codemirror_mode": {
    "name": "ipython",
    "version": 3
   },
   "file_extension": ".py",
   "mimetype": "text/x-python",
   "name": "python",
   "nbconvert_exporter": "python",
   "pygments_lexer": "ipython3",
   "version": "3.7.3"
  }
 },
 "nbformat": 4,
 "nbformat_minor": 2
}
