{
 "cells": [
  {
   "cell_type": "code",
   "execution_count": 8,
   "metadata": {},
   "outputs": [
    {
     "name": "stdout",
     "output_type": "stream",
     "text": [
      "[[5.02219394e+00 6.88632562e+00 5.72576533e+00]\n",
      " [6.91559619e+00 3.34133101e+00 9.76834433e+00]\n",
      " [8.70027879e+00 2.26451533e+00 4.48062675e+00]\n",
      " [5.07733418e+00 8.28290308e+00 8.15288253e+00]\n",
      " [2.33786902e+00 8.87217524e+00 3.23159843e+00]\n",
      " [6.22964136e+00 2.93939221e+00 3.29819614e+00]\n",
      " [8.85022277e+00 3.75287785e+00 6.85518715e-01]\n",
      " [1.64615693e+00 6.67372721e+00 1.73229872e+00]\n",
      " [6.97068612e+00 3.45255136e+00 4.95022417e+00]\n",
      " [8.20587558e+00 1.16165617e+00 6.46858803e-03]\n",
      " [9.63528045e+00 2.73890141e-01 6.43440944e+00]\n",
      " [9.13190938e+00 2.84979310e+00 6.01455363e+00]\n",
      " [7.60930338e+00 4.92427203e-01 9.20010101e+00]\n",
      " [9.15337656e+00 8.81076841e+00 2.14223790e+00]\n",
      " [8.26239647e-01 7.88290567e+00 9.34651251e+00]\n",
      " [7.91079435e+00 9.20143894e+00 8.03498922e+00]\n",
      " [7.86857552e+00 5.36547237e+00 5.56035135e+00]\n",
      " [9.83463852e+00 6.01996666e+00 7.98049660e+00]\n",
      " [9.60649640e+00 6.89131018e+00 3.51153181e+00]\n",
      " [4.04160083e+00 3.94889731e+00 6.37450628e+00]]\n"
     ]
    }
   ],
   "source": [
    "import numpy as np\n",
    "train = np.random.rand(20,3)*10\n",
    "print(train)"
   ]
  },
  {
   "cell_type": "code",
   "execution_count": 20,
   "metadata": {},
   "outputs": [
    {
     "name": "stdout",
     "output_type": "stream",
     "text": [
      "[2 2 2 3 2 1 3 3 1 1 0 1 0 1 1 1 1 2 0 0]\n"
     ]
    }
   ],
   "source": [
    "y_train = np.random.randint(0, 4, 20)\n",
    "print(y_train)"
   ]
  },
  {
   "cell_type": "code",
   "execution_count": 21,
   "metadata": {},
   "outputs": [
    {
     "name": "stdout",
     "output_type": "stream",
     "text": [
      "[[5.02219394e+00 6.88632562e+00 5.72576533e+00 1.00000000e+00]\n",
      " [6.91559619e+00 3.34133101e+00 9.76834433e+00 1.00000000e+00]\n",
      " [8.70027879e+00 2.26451533e+00 4.48062675e+00 1.00000000e+00]\n",
      " [5.07733418e+00 8.28290308e+00 8.15288253e+00 1.00000000e+00]\n",
      " [2.33786902e+00 8.87217524e+00 3.23159843e+00 1.00000000e+00]\n",
      " [6.22964136e+00 2.93939221e+00 3.29819614e+00 1.00000000e+00]\n",
      " [8.85022277e+00 3.75287785e+00 6.85518715e-01 1.00000000e+00]\n",
      " [1.64615693e+00 6.67372721e+00 1.73229872e+00 1.00000000e+00]\n",
      " [6.97068612e+00 3.45255136e+00 4.95022417e+00 1.00000000e+00]\n",
      " [8.20587558e+00 1.16165617e+00 6.46858803e-03 1.00000000e+00]\n",
      " [9.63528045e+00 2.73890141e-01 6.43440944e+00 1.00000000e+00]\n",
      " [9.13190938e+00 2.84979310e+00 6.01455363e+00 1.00000000e+00]\n",
      " [7.60930338e+00 4.92427203e-01 9.20010101e+00 1.00000000e+00]\n",
      " [9.15337656e+00 8.81076841e+00 2.14223790e+00 1.00000000e+00]\n",
      " [8.26239647e-01 7.88290567e+00 9.34651251e+00 1.00000000e+00]\n",
      " [7.91079435e+00 9.20143894e+00 8.03498922e+00 1.00000000e+00]\n",
      " [7.86857552e+00 5.36547237e+00 5.56035135e+00 1.00000000e+00]\n",
      " [9.83463852e+00 6.01996666e+00 7.98049660e+00 1.00000000e+00]\n",
      " [9.60649640e+00 6.89131018e+00 3.51153181e+00 1.00000000e+00]\n",
      " [4.04160083e+00 3.94889731e+00 6.37450628e+00 1.00000000e+00]]\n"
     ]
    }
   ],
   "source": [
    "train_Bias = np.hstack([train, np.ones((train.shape[0], 1))])\n",
    "print(train_Bias)"
   ]
  },
  {
   "cell_type": "code",
   "execution_count": 22,
   "metadata": {},
   "outputs": [],
   "source": [
    "W = np.random.randn(4, 5) * 0.0001 #cada entrada possui 4 features (contando com o Bias) e tem 5 classes"
   ]
  },
  {
   "cell_type": "code",
   "execution_count": 23,
   "metadata": {},
   "outputs": [
    {
     "name": "stdout",
     "output_type": "stream",
     "text": [
      "[[-1.69493717e-04 -4.00117596e-05 -1.80555112e-05  1.00283003e-04\n",
      "   5.29478548e-05]\n",
      " [-3.05554062e-04 -3.34061558e-05  3.88598168e-06 -6.26084280e-05\n",
      "  -8.76350727e-05]\n",
      " [ 4.67763380e-05  4.62883481e-05  1.38737342e-04  1.47580821e-04\n",
      "   2.64546787e-05]\n",
      " [-2.66614930e-05  2.94334761e-05  7.49031433e-05 -6.59777979e-05\n",
      "   3.60301803e-05]]\n"
     ]
    }
   ],
   "source": [
    "print(W)"
   ]
  },
  {
   "cell_type": "code",
   "execution_count": 24,
   "metadata": {},
   "outputs": [],
   "source": [
    "i = 0\n",
    "scores = train_Bias[i].dot(W)"
   ]
  },
  {
   "cell_type": "code",
   "execution_count": 25,
   "metadata": {},
   "outputs": [
    {
     "name": "stdout",
     "output_type": "stream",
     "text": [
      "[-0.00271421 -0.00013652  0.00080536  0.00085153 -0.00015007]\n"
     ]
    }
   ],
   "source": [
    "print(scores)"
   ]
  },
  {
   "cell_type": "code",
   "execution_count": 26,
   "metadata": {},
   "outputs": [
    {
     "data": {
      "text/plain": [
       "2"
      ]
     },
     "execution_count": 26,
     "metadata": {},
     "output_type": "execute_result"
    }
   ],
   "source": [
    "y_train[i]"
   ]
  },
  {
   "cell_type": "code",
   "execution_count": 27,
   "metadata": {
    "scrolled": true
   },
   "outputs": [
    {
     "name": "stdout",
     "output_type": "stream",
     "text": [
      "0.0008053624609933033\n"
     ]
    }
   ],
   "source": [
    "correct_class_score = scores[y_train[i]]\n",
    "print(correct_class_score)"
   ]
  },
  {
   "cell_type": "code",
   "execution_count": 33,
   "metadata": {},
   "outputs": [],
   "source": [
    "j = 0\n",
    "loss = 0.0\n",
    "dW = np.zeros(W.shape) # initialize the gradient as zero\n"
   ]
  },
  {
   "cell_type": "code",
   "execution_count": 38,
   "metadata": {},
   "outputs": [
    {
     "name": "stdout",
     "output_type": "stream",
     "text": [
      "margin = 0.999058\n",
      "loss = 1.995539\n"
     ]
    }
   ],
   "source": [
    "j = 1\n",
    "if j != y_train[i]:\n",
    "    margin = scores[j] - correct_class_score + 1 # note delta = 1\n",
    "    print(\"margin = %f\" % margin)\n",
    "    if margin > 0:\n",
    "        loss += margin\n",
    "        print(\"loss = %f\" % loss)\n",
    "        # we'll end up adding X[i] to the jth column for every X[i] that\n",
    "        # contributed to the loss\n",
    "        dW[:, j] += train_Bias[i]\n",
    "        # this will trigger K times if K classes were wrong enough to add loss\n",
    "        dW[:, y_train[i]] -= train_Bias[i]"
   ]
  },
  {
   "cell_type": "code",
   "execution_count": 39,
   "metadata": {},
   "outputs": [
    {
     "data": {
      "text/plain": [
       "array([5.02219394, 6.88632562, 5.72576533, 1.        ])"
      ]
     },
     "execution_count": 39,
     "metadata": {},
     "output_type": "execute_result"
    }
   ],
   "source": [
    "dW[:, j]"
   ]
  },
  {
   "cell_type": "code",
   "execution_count": 40,
   "metadata": {},
   "outputs": [
    {
     "data": {
      "text/plain": [
       "array([[  5.02219394,   5.02219394, -10.04438788,   0.        ,\n",
       "          0.        ],\n",
       "       [  6.88632562,   6.88632562, -13.77265123,   0.        ,\n",
       "          0.        ],\n",
       "       [  5.72576533,   5.72576533, -11.45153066,   0.        ,\n",
       "          0.        ],\n",
       "       [  1.        ,   1.        ,  -2.        ,   0.        ,\n",
       "          0.        ]])"
      ]
     },
     "execution_count": 40,
     "metadata": {},
     "output_type": "execute_result"
    }
   ],
   "source": [
    "dW"
   ]
  },
  {
   "cell_type": "code",
   "execution_count": 37,
   "metadata": {},
   "outputs": [
    {
     "data": {
      "text/plain": [
       "array([5.02219394, 6.88632562, 5.72576533, 1.        ])"
      ]
     },
     "execution_count": 37,
     "metadata": {},
     "output_type": "execute_result"
    }
   ],
   "source": [
    "train_Bias[i]"
   ]
  },
  {
   "cell_type": "code",
   "execution_count": null,
   "metadata": {},
   "outputs": [],
   "source": []
  }
 ],
 "metadata": {
  "kernelspec": {
   "display_name": "Python 3",
   "language": "python",
   "name": "python3"
  },
  "language_info": {
   "codemirror_mode": {
    "name": "ipython",
    "version": 3
   },
   "file_extension": ".py",
   "mimetype": "text/x-python",
   "name": "python",
   "nbconvert_exporter": "python",
   "pygments_lexer": "ipython3",
   "version": "3.7.3"
  }
 },
 "nbformat": 4,
 "nbformat_minor": 2
}
